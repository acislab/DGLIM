{
 "cells": [
  {
   "cell_type": "markdown",
   "metadata": {},
   "source": [
    "# Fix Active Business Addresses"
   ]
  },
  {
   "cell_type": "code",
   "execution_count": 1,
   "metadata": {},
   "outputs": [],
   "source": [
    "# Data processing\n",
    "import numpy as np\n",
    "import pandas as pd\n",
    "import re # Regular Expressions\n",
    "import math\n",
    "import googlemaps\n",
    "from datetime import datetime\n",
    "\n",
    "# Common DGLIM utilities\n",
    "import os, sys\n",
    "sys.path.insert(1, os.path.join(sys.path[0], '..'))\n",
    "import dglim\n",
    "dglim.setProjectPath('../../')\n",
    "\n",
    "from dglim import City"
   ]
  },
  {
   "cell_type": "markdown",
   "metadata": {},
   "source": [
    "*** Connect to Google Maps API ***"
   ]
  },
  {
   "cell_type": "code",
   "execution_count": 2,
   "metadata": {},
   "outputs": [],
   "source": [
    "gmaps = googlemaps.Client(key=dglim.getGoogleAPIKey());"
   ]
  },
  {
   "cell_type": "markdown",
   "metadata": {},
   "source": [
    "*** Load business locations ***"
   ]
  },
  {
   "cell_type": "code",
   "execution_count": 3,
   "metadata": {
    "scrolled": true
   },
   "outputs": [
    {
     "data": {
      "text/html": [
       "<div>\n",
       "<style>\n",
       "    .dataframe thead tr:only-child th {\n",
       "        text-align: right;\n",
       "    }\n",
       "\n",
       "    .dataframe thead th {\n",
       "        text-align: left;\n",
       "    }\n",
       "\n",
       "    .dataframe tbody tr th {\n",
       "        vertical-align: top;\n",
       "    }\n",
       "</style>\n",
       "<table border=\"1\" class=\"dataframe\">\n",
       "  <thead>\n",
       "    <tr style=\"text-align: right;\">\n",
       "      <th></th>\n",
       "      <th>uniqueid</th>\n",
       "      <th>Physical Address</th>\n",
       "      <th>Location</th>\n",
       "    </tr>\n",
       "  </thead>\n",
       "  <tbody>\n",
       "    <tr>\n",
       "      <th>0</th>\n",
       "      <td>1</td>\n",
       "      <td>1215 NW 12TH AVE</td>\n",
       "      <td>1215 NW 12TH AVE\\nGAINESVILLE, FL\\n(29.663009,...</td>\n",
       "    </tr>\n",
       "    <tr>\n",
       "      <th>1</th>\n",
       "      <td>2</td>\n",
       "      <td>1311 NW 5TH AVE</td>\n",
       "      <td>1311 NW 5TH AVE\\nGAINESVILLE, FL\\n(29.655734, ...</td>\n",
       "    </tr>\n",
       "    <tr>\n",
       "      <th>2</th>\n",
       "      <td>3</td>\n",
       "      <td>2224 NW 13TH ST</td>\n",
       "      <td>2224 NW 13TH ST\\nGAINESVILLE, FL\\n(29.673707, ...</td>\n",
       "    </tr>\n",
       "    <tr>\n",
       "      <th>3</th>\n",
       "      <td>4</td>\n",
       "      <td>4101 NW 37TH PL, SUITE B</td>\n",
       "      <td>4101 NW 37TH PL\\nSUITE B GAINESVILLE, FL\\n(29....</td>\n",
       "    </tr>\n",
       "    <tr>\n",
       "      <th>4</th>\n",
       "      <td>5</td>\n",
       "      <td>7605 NW 13TH ST</td>\n",
       "      <td>7605 NW 13TH ST\\nGAINESVILLE, FL\\n(29.726447, ...</td>\n",
       "    </tr>\n",
       "  </tbody>\n",
       "</table>\n",
       "</div>"
      ],
      "text/plain": [
       "   uniqueid          Physical Address  \\\n",
       "0         1          1215 NW 12TH AVE   \n",
       "1         2           1311 NW 5TH AVE   \n",
       "2         3           2224 NW 13TH ST   \n",
       "3         4  4101 NW 37TH PL, SUITE B   \n",
       "4         5           7605 NW 13TH ST   \n",
       "\n",
       "                                            Location  \n",
       "0  1215 NW 12TH AVE\\nGAINESVILLE, FL\\n(29.663009,...  \n",
       "1  1311 NW 5TH AVE\\nGAINESVILLE, FL\\n(29.655734, ...  \n",
       "2  2224 NW 13TH ST\\nGAINESVILLE, FL\\n(29.673707, ...  \n",
       "3  4101 NW 37TH PL\\nSUITE B GAINESVILLE, FL\\n(29....  \n",
       "4  7605 NW 13TH ST\\nGAINESVILLE, FL\\n(29.726447, ...  "
      ]
     },
     "execution_count": 3,
     "metadata": {},
     "output_type": "execute_result"
    }
   ],
   "source": [
    "raw_locations_df = pd.read_excel(\n",
    "    dglim.datasets_path + 'DGLIM Survey Data/city of Gainesville active businesses dataset with uniqueid (fixed coords).xlsx') \\\n",
    "    [['uniqueid', 'Physical Address', 'Location']]\n",
    "\n",
    "raw_locations_df[:5]"
   ]
  },
  {
   "cell_type": "markdown",
   "metadata": {},
   "source": [
    "## Add GPS Coordinates"
   ]
  },
  {
   "cell_type": "code",
   "execution_count": 4,
   "metadata": {},
   "outputs": [],
   "source": [
    "locations_df = raw_locations_df[['uniqueid', 'Physical Address']] \\\n",
    "    .rename(columns={\n",
    "        'uniqueid': 'DGLIM ID',\n",
    "        'Physical Address': 'Address'\n",
    "    }).set_index('DGLIM ID', drop=False).copy()"
   ]
  },
  {
   "cell_type": "code",
   "execution_count": 5,
   "metadata": {
    "collapsed": true
   },
   "outputs": [],
   "source": [
    "def extractCoordinates(string):\n",
    "    # Extract string coordinates from location entry\n",
    "    string = str(string) # Convert unicode to str if necessary\n",
    "    values_list = [x for x in re.split('[()]', string) if x != '']\n",
    "\n",
    "    if len(values_list) > 1:\n",
    "        str_coords = values_list[len(values_list) - 1]\n",
    "        coords = str_coords.split(',')\n",
    "        return [float(coords[0]), float(coords[1])]\n",
    "    else:\n",
    "        return [np.nan, np.nan]"
   ]
  },
  {
   "cell_type": "code",
   "execution_count": 6,
   "metadata": {},
   "outputs": [
    {
     "data": {
      "text/html": [
       "<div>\n",
       "<style>\n",
       "    .dataframe thead tr:only-child th {\n",
       "        text-align: right;\n",
       "    }\n",
       "\n",
       "    .dataframe thead th {\n",
       "        text-align: left;\n",
       "    }\n",
       "\n",
       "    .dataframe tbody tr th {\n",
       "        vertical-align: top;\n",
       "    }\n",
       "</style>\n",
       "<table border=\"1\" class=\"dataframe\">\n",
       "  <thead>\n",
       "    <tr style=\"text-align: right;\">\n",
       "      <th></th>\n",
       "      <th>DGLIM ID</th>\n",
       "      <th>Address</th>\n",
       "      <th>Latitude</th>\n",
       "      <th>Longitude</th>\n",
       "    </tr>\n",
       "    <tr>\n",
       "      <th>DGLIM ID</th>\n",
       "      <th></th>\n",
       "      <th></th>\n",
       "      <th></th>\n",
       "      <th></th>\n",
       "    </tr>\n",
       "  </thead>\n",
       "  <tbody>\n",
       "    <tr>\n",
       "      <th>1</th>\n",
       "      <td>1</td>\n",
       "      <td>1215 NW 12TH AVE</td>\n",
       "      <td>29.663009</td>\n",
       "      <td>-82.337822</td>\n",
       "    </tr>\n",
       "  </tbody>\n",
       "</table>\n",
       "</div>"
      ],
      "text/plain": [
       "          DGLIM ID           Address   Latitude  Longitude\n",
       "DGLIM ID                                                  \n",
       "1                1  1215 NW 12TH AVE  29.663009 -82.337822"
      ]
     },
     "execution_count": 6,
     "metadata": {},
     "output_type": "execute_result"
    }
   ],
   "source": [
    "# Extract GPS coordinates from 'Location'\n",
    "locations_df['Latitude'], locations_df['Longitude'] = [np.nan, np.nan]\n",
    "locations_df[['Latitude', 'Longitude']] = map(lambda x: extractCoordinates(x), raw_locations_df['Location'].tolist())\n",
    "\n",
    "locations_df[:1]"
   ]
  },
  {
   "cell_type": "markdown",
   "metadata": {},
   "source": [
    "*** Look up missing coordinates ***"
   ]
  },
  {
   "cell_type": "code",
   "execution_count": 7,
   "metadata": {},
   "outputs": [
    {
     "name": "stdout",
     "output_type": "stream",
     "text": [
      "737 missing addresses\n"
     ]
    }
   ],
   "source": [
    "n = len(locations_df) - len(locations_df.dropna(subset=['Latitude', 'Longitude']))\n",
    "print n, \"missing addresses\""
   ]
  },
  {
   "cell_type": "code",
   "execution_count": 8,
   "metadata": {},
   "outputs": [
    {
     "name": "stdout",
     "output_type": "stream",
     "text": [
      "Looking up coordinates for 203 businesses...\n",
      "[ . . . . . . . . . . . . . . . . . . . . . . . . . . . . . . . . . . . . . . . . . . . . . . . . . ]\n",
      "[ . . . . . . . . . . . . . . . . . . . . . . . . . . . . . . . . . . . . . . . . . . . . . . . . . ]\n",
      "Done!\n"
     ]
    }
   ],
   "source": [
    "# Get businesses that don't have coordinates listed\n",
    "missing_df = locations_df[locations_df['Latitude'].fillna(0) == 0]\n",
    "generic_addresses = {\n",
    "    'MOBILE ONLY',\n",
    "    'VARIOUS',\n",
    "    'OUT OF STATE',\n",
    "    'out OF STATE'\n",
    "}\n",
    "\n",
    "# Filter out businesses without address data\n",
    "missing_df = missing_df[~missing_df['Address'].isin(generic_addresses)]\n",
    "\n",
    "# Let's print 50 progress dots\n",
    "milestone_size = 1.0/50.0\n",
    "progress_inc = 1.0/float(len(missing_df))\n",
    "\n",
    "print \"Looking up coordinates for\", len(missing_df), \"businesses...\"\n",
    "\n",
    "# Sample progress bar to gauge actual progress\n",
    "print \"[\",\n",
    "for i in range(0, 49):\n",
    "    print \".\",\n",
    "print \"]\"\n",
    "\n",
    "# Look up coordinates by address\n",
    "progress = 0\n",
    "next_milestone = milestone_size\n",
    "\n",
    "print \"[\",\n",
    "for i, row in missing_df.iterrows():\n",
    "    address = row['Address'] + ', Gainesville FL'\n",
    "    lat, lng = gmaps.geocode(address)[0]['geometry']['location'].values()\n",
    "    locations_df.set_value(col='Latitude', index=row.name, value=lat)\n",
    "    locations_df.set_value(col='Longitude', index=row.name, value=lng)\n",
    "    \n",
    "    #print \"Found\", lat, lng, \"for\", address\n",
    "    progress += progress_inc\n",
    "    if (progress >= next_milestone):\n",
    "        print \".\",\n",
    "        next_milestone += milestone_size\n",
    "print \"]\"\n",
    "print \"Done!\""
   ]
  },
  {
   "cell_type": "code",
   "execution_count": 9,
   "metadata": {
    "collapsed": true
   },
   "outputs": [],
   "source": [
    "# Nullify generic address coordinates\n",
    "missing_addresses = (locations_df['Address'].isin(generic_addresses))\n",
    "locations_df.loc[missing_addresses, ['Latitude','Longitude']] = np.nan"
   ]
  },
  {
   "cell_type": "markdown",
   "metadata": {},
   "source": [
    "*** How many are missing coordinates? ***"
   ]
  },
  {
   "cell_type": "code",
   "execution_count": 10,
   "metadata": {},
   "outputs": [
    {
     "name": "stdout",
     "output_type": "stream",
     "text": [
      "568 missing addresses\n"
     ]
    }
   ],
   "source": [
    "n = len(locations_df) - len(locations_df.dropna(subset=['Latitude', 'Longitude']))\n",
    "print n, \"missing addresses\""
   ]
  },
  {
   "cell_type": "code",
   "execution_count": 11,
   "metadata": {},
   "outputs": [
    {
     "name": "stdout",
     "output_type": "stream",
     "text": [
      "568 don't have an address\n"
     ]
    }
   ],
   "source": [
    "n = len(locations_df[locations_df['Address'].apply(lambda x: x in generic_addresses)])\n",
    "print n, \"don't have an address\""
   ]
  },
  {
   "cell_type": "markdown",
   "metadata": {},
   "source": [
    "*** How many addresses are oustide Gainesville? ***"
   ]
  },
  {
   "cell_type": "code",
   "execution_count": 12,
   "metadata": {},
   "outputs": [
    {
     "name": "stdout",
     "output_type": "stream",
     "text": [
      "0 locations are outside Gainesville\n"
     ]
    }
   ],
   "source": [
    "n = len(locations_df[(abs(locations_df['Latitude'] - City.latitude) > .2) | (abs(locations_df['Longitude'] - City.longitude) > .2)].sort_index())\n",
    "print n, \"locations are outside Gainesville\""
   ]
  },
  {
   "cell_type": "markdown",
   "metadata": {},
   "source": [
    "*** Save data ***"
   ]
  },
  {
   "cell_type": "code",
   "execution_count": 14,
   "metadata": {
    "collapsed": true
   },
   "outputs": [],
   "source": [
    "dglim.saveData(locations_df, 'Active Business Locations')"
   ]
  },
  {
   "cell_type": "code",
   "execution_count": 15,
   "metadata": {
    "scrolled": true
   },
   "outputs": [
    {
     "data": {
      "text/html": [
       "<div>\n",
       "<style>\n",
       "    .dataframe thead tr:only-child th {\n",
       "        text-align: right;\n",
       "    }\n",
       "\n",
       "    .dataframe thead th {\n",
       "        text-align: left;\n",
       "    }\n",
       "\n",
       "    .dataframe tbody tr th {\n",
       "        vertical-align: top;\n",
       "    }\n",
       "</style>\n",
       "<table border=\"1\" class=\"dataframe\">\n",
       "  <thead>\n",
       "    <tr style=\"text-align: right;\">\n",
       "      <th></th>\n",
       "      <th>DGLIM ID</th>\n",
       "      <th>Address</th>\n",
       "      <th>Latitude</th>\n",
       "      <th>Longitude</th>\n",
       "    </tr>\n",
       "    <tr>\n",
       "      <th>DGLIM ID</th>\n",
       "      <th></th>\n",
       "      <th></th>\n",
       "      <th></th>\n",
       "      <th></th>\n",
       "    </tr>\n",
       "  </thead>\n",
       "  <tbody>\n",
       "    <tr>\n",
       "      <th>1</th>\n",
       "      <td>1</td>\n",
       "      <td>1215 NW 12TH AVE</td>\n",
       "      <td>29.663009</td>\n",
       "      <td>-82.337822</td>\n",
       "    </tr>\n",
       "    <tr>\n",
       "      <th>2</th>\n",
       "      <td>2</td>\n",
       "      <td>1311 NW 5TH AVE</td>\n",
       "      <td>29.655734</td>\n",
       "      <td>-82.339970</td>\n",
       "    </tr>\n",
       "    <tr>\n",
       "      <th>3</th>\n",
       "      <td>3</td>\n",
       "      <td>2224 NW 13TH ST</td>\n",
       "      <td>29.673707</td>\n",
       "      <td>-82.339143</td>\n",
       "    </tr>\n",
       "    <tr>\n",
       "      <th>4</th>\n",
       "      <td>4</td>\n",
       "      <td>4101 NW 37TH PL, SUITE B</td>\n",
       "      <td>29.687533</td>\n",
       "      <td>-82.387161</td>\n",
       "    </tr>\n",
       "    <tr>\n",
       "      <th>5</th>\n",
       "      <td>5</td>\n",
       "      <td>7605 NW 13TH ST</td>\n",
       "      <td>29.726447</td>\n",
       "      <td>-82.370726</td>\n",
       "    </tr>\n",
       "  </tbody>\n",
       "</table>\n",
       "</div>"
      ],
      "text/plain": [
       "          DGLIM ID                   Address   Latitude  Longitude\n",
       "DGLIM ID                                                          \n",
       "1                1          1215 NW 12TH AVE  29.663009 -82.337822\n",
       "2                2           1311 NW 5TH AVE  29.655734 -82.339970\n",
       "3                3           2224 NW 13TH ST  29.673707 -82.339143\n",
       "4                4  4101 NW 37TH PL, SUITE B  29.687533 -82.387161\n",
       "5                5           7605 NW 13TH ST  29.726447 -82.370726"
      ]
     },
     "execution_count": 15,
     "metadata": {},
     "output_type": "execute_result"
    }
   ],
   "source": [
    "locations_df.head()"
   ]
  }
 ],
 "metadata": {
  "kernelspec": {
   "display_name": "Python 2",
   "language": "python",
   "name": "python2"
  },
  "language_info": {
   "codemirror_mode": {
    "name": "ipython",
    "version": 2
   },
   "file_extension": ".py",
   "mimetype": "text/x-python",
   "name": "python",
   "nbconvert_exporter": "python",
   "pygments_lexer": "ipython2",
   "version": "2.7.13"
  }
 },
 "nbformat": 4,
 "nbformat_minor": 2
}

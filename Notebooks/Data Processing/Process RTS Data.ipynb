{
 "cells": [
  {
   "cell_type": "markdown",
   "metadata": {},
   "source": [
    "# Process RTS Data"
   ]
  },
  {
   "cell_type": "code",
   "execution_count": 1,
   "metadata": {
    "collapsed": true
   },
   "outputs": [],
   "source": [
    "# Data processing and visualization\n",
    "import numpy as np\n",
    "import pandas as pd\n",
    "import matplotlib.pyplot as plt\n",
    "import math\n",
    "import csv\n",
    "from geopy.distance import vincenty\n",
    "\n",
    "# Common DGLIM utilities\n",
    "import os, sys\n",
    "sys.path.insert(1, os.path.join(sys.path[0], '..'))\n",
    "import dglim\n",
    "dglim.setProjectPath('../../')\n",
    "\n",
    "%matplotlib inline"
   ]
  },
  {
   "cell_type": "markdown",
   "metadata": {},
   "source": [
    "### Load datasets"
   ]
  },
  {
   "cell_type": "code",
   "execution_count": 2,
   "metadata": {
    "collapsed": true
   },
   "outputs": [],
   "source": [
    "master_df = dglim.loadData('Master Dataset')"
   ]
  },
  {
   "cell_type": "markdown",
   "metadata": {},
   "source": [
    "## Get Distances to Nearest Bus Stop"
   ]
  },
  {
   "cell_type": "markdown",
   "metadata": {},
   "source": [
    "*** Get Bus Stop Data ***"
   ]
  },
  {
   "cell_type": "code",
   "execution_count": 3,
   "metadata": {},
   "outputs": [
    {
     "data": {
      "text/html": [
       "<div>\n",
       "<style>\n",
       "    .dataframe thead tr:only-child th {\n",
       "        text-align: right;\n",
       "    }\n",
       "\n",
       "    .dataframe thead th {\n",
       "        text-align: left;\n",
       "    }\n",
       "\n",
       "    .dataframe tbody tr th {\n",
       "        vertical-align: top;\n",
       "    }\n",
       "</style>\n",
       "<table border=\"1\" class=\"dataframe\">\n",
       "  <thead>\n",
       "    <tr style=\"text-align: right;\">\n",
       "      <th></th>\n",
       "      <th>stop_id</th>\n",
       "      <th>stop_code</th>\n",
       "      <th>stop_name</th>\n",
       "      <th>stop_desc</th>\n",
       "      <th>stop_lat</th>\n",
       "      <th>stop_lon</th>\n",
       "      <th>zone_id</th>\n",
       "      <th>stop_url</th>\n",
       "    </tr>\n",
       "  </thead>\n",
       "  <tbody>\n",
       "    <tr>\n",
       "      <th>0</th>\n",
       "      <td>1</td>\n",
       "      <td>1</td>\n",
       "      <td>Rosa Parks Downtown Station</td>\n",
       "      <td>Northbound SE 3rd ST @ Nearside SE 3rd ST</td>\n",
       "      <td>29.645567</td>\n",
       "      <td>-82.322697</td>\n",
       "      <td>NaN</td>\n",
       "      <td></td>\n",
       "    </tr>\n",
       "    <tr>\n",
       "      <th>1</th>\n",
       "      <td>2</td>\n",
       "      <td>2</td>\n",
       "      <td>Hampton Inn Hotel</td>\n",
       "      <td>Westbound SE 2nd AVE @ Nearside SE 1st ST</td>\n",
       "      <td>29.650346</td>\n",
       "      <td>-82.323804</td>\n",
       "      <td>NaN</td>\n",
       "      <td>NaN</td>\n",
       "    </tr>\n",
       "    <tr>\n",
       "      <th>2</th>\n",
       "      <td>3</td>\n",
       "      <td>3</td>\n",
       "      <td>Westbound SW 2nd Avenue @ SW 2nd Street</td>\n",
       "      <td>Westbound SW 2nd AVE @ Nearside SW 2nd ST</td>\n",
       "      <td>29.650397</td>\n",
       "      <td>-82.326459</td>\n",
       "      <td>NaN</td>\n",
       "      <td></td>\n",
       "    </tr>\n",
       "    <tr>\n",
       "      <th>3</th>\n",
       "      <td>4</td>\n",
       "      <td>4</td>\n",
       "      <td>The Continuum</td>\n",
       "      <td>Westbound SW 2nd AVE @ Nearside SW 6th ST</td>\n",
       "      <td>29.650325</td>\n",
       "      <td>-82.329674</td>\n",
       "      <td>NaN</td>\n",
       "      <td></td>\n",
       "    </tr>\n",
       "    <tr>\n",
       "      <th>4</th>\n",
       "      <td>6</td>\n",
       "      <td>6</td>\n",
       "      <td>Ayers Medical Plaza</td>\n",
       "      <td>Westbound SW 2nd AVE @ Nearside SW 8th ST</td>\n",
       "      <td>29.650335</td>\n",
       "      <td>-82.332790</td>\n",
       "      <td>NaN</td>\n",
       "      <td></td>\n",
       "    </tr>\n",
       "  </tbody>\n",
       "</table>\n",
       "</div>"
      ],
      "text/plain": [
       "   stop_id  stop_code                                stop_name  \\\n",
       "0        1          1              Rosa Parks Downtown Station   \n",
       "1        2          2                        Hampton Inn Hotel   \n",
       "2        3          3  Westbound SW 2nd Avenue @ SW 2nd Street   \n",
       "3        4          4                            The Continuum   \n",
       "4        6          6                      Ayers Medical Plaza   \n",
       "\n",
       "                                   stop_desc   stop_lat   stop_lon  zone_id  \\\n",
       "0  Northbound SE 3rd ST @ Nearside SE 3rd ST  29.645567 -82.322697      NaN   \n",
       "1  Westbound SE 2nd AVE @ Nearside SE 1st ST  29.650346 -82.323804      NaN   \n",
       "2  Westbound SW 2nd AVE @ Nearside SW 2nd ST  29.650397 -82.326459      NaN   \n",
       "3  Westbound SW 2nd AVE @ Nearside SW 6th ST  29.650325 -82.329674      NaN   \n",
       "4  Westbound SW 2nd AVE @ Nearside SW 8th ST  29.650335 -82.332790      NaN   \n",
       "\n",
       "  stop_url  \n",
       "0           \n",
       "1      NaN  \n",
       "2           \n",
       "3           \n",
       "4           "
      ]
     },
     "execution_count": 3,
     "metadata": {},
     "output_type": "execute_result"
    }
   ],
   "source": [
    "stops_df = pd.read_csv(dglim.datasets_path + 'RTS Data/stops.csv')\n",
    "stops_df.head()"
   ]
  },
  {
   "cell_type": "markdown",
   "metadata": {},
   "source": [
    "*** Find Distance to Closest Stop for each Business ***"
   ]
  },
  {
   "cell_type": "code",
   "execution_count": 4,
   "metadata": {
    "collapsed": true
   },
   "outputs": [],
   "source": [
    "def findNearestBusStop(business_location):\n",
    "    l = 0\n",
    "    r = len(stops_df)-1\n",
    "    closest_distance = np.inf;\n",
    "    closest_stop = -1;\n",
    "    for i in range(0, r):\n",
    "        stop_location = (float(stops_df['stop_lat'][i]), float(stops_df['stop_lon'][i]))\n",
    "        distance = vincenty(business_location, stop_location)\n",
    "        if distance < closest_distance:\n",
    "            closest_distance = distance;\n",
    "            closest_stop = i;\n",
    "    return (closest_stop, closest_distance)"
   ]
  },
  {
   "cell_type": "markdown",
   "metadata": {},
   "source": [
    "** WARNING ** This method is very non-optimal and may take a while!"
   ]
  },
  {
   "cell_type": "code",
   "execution_count": 5,
   "metadata": {},
   "outputs": [
    {
     "name": "stdout",
     "output_type": "stream",
     "text": [
      "Beginning search\n",
      "[ . . . . . . . . . . . . . . . . . . . . . . . . . . . . . . . . . . . . . . . . . . . . . . . . . . ]\n",
      "[ . . . . . . . . . . . . . . . . . . . . . . . . . . . . . . . . . . . . . . . . . . . . . . . . . . ]\n",
      "Done!\n"
     ]
    }
   ],
   "source": [
    "# Let's print a dot every 2% of the job\n",
    "two_percent = len(master_df)/50\n",
    "\n",
    "# Set this to limit the number of iterations performed (set to -1 for no limit)\n",
    "sample_size = -1;\n",
    "\n",
    "print \"Beginning search\"\n",
    "\n",
    "# Sample progress bar to gauge actual progress\n",
    "print \"[\",\n",
    "for i in range(0, 50):\n",
    "    print \".\",\n",
    "print \"]\"\n",
    "\n",
    "# Find the distance between each business and the closest bus stop\n",
    "distancesDict = {}\n",
    "\n",
    "print \"[\",\n",
    "for i, act_bus in master_df.iterrows():\n",
    "    bus_loc = (float(act_bus['Latitude']), float(act_bus['Longitude']))\n",
    "    if not (np.isnan(bus_loc[0]) or np.isnan(bus_loc[1])):\n",
    "        closest = findNearestBusStop(bus_loc)\n",
    "        distancesDict[act_bus['DGLIM ID']] = closest;\n",
    "\n",
    "    # Show a progress bar\n",
    "    if (i != 0 and i % two_percent == 0):\n",
    "        print \".\",\n",
    "    if (i == sample_size):\n",
    "        break;\n",
    "print \"]\"\n",
    "print \"Done!\""
   ]
  },
  {
   "cell_type": "code",
   "execution_count": 6,
   "metadata": {},
   "outputs": [
    {
     "data": {
      "text/html": [
       "<div>\n",
       "<style>\n",
       "    .dataframe thead tr:only-child th {\n",
       "        text-align: right;\n",
       "    }\n",
       "\n",
       "    .dataframe thead th {\n",
       "        text-align: left;\n",
       "    }\n",
       "\n",
       "    .dataframe tbody tr th {\n",
       "        vertical-align: top;\n",
       "    }\n",
       "</style>\n",
       "<table border=\"1\" class=\"dataframe\">\n",
       "  <thead>\n",
       "    <tr style=\"text-align: right;\">\n",
       "      <th></th>\n",
       "      <th>DGLIM ID</th>\n",
       "      <th>Distance to Bus Stop</th>\n",
       "    </tr>\n",
       "    <tr>\n",
       "      <th>DGLIM ID</th>\n",
       "      <th></th>\n",
       "      <th></th>\n",
       "    </tr>\n",
       "  </thead>\n",
       "  <tbody>\n",
       "    <tr>\n",
       "      <th>16</th>\n",
       "      <td>16</td>\n",
       "      <td>110.521226</td>\n",
       "    </tr>\n",
       "    <tr>\n",
       "      <th>17</th>\n",
       "      <td>17</td>\n",
       "      <td>20.692666</td>\n",
       "    </tr>\n",
       "    <tr>\n",
       "      <th>24</th>\n",
       "      <td>24</td>\n",
       "      <td>209.539654</td>\n",
       "    </tr>\n",
       "    <tr>\n",
       "      <th>25</th>\n",
       "      <td>25</td>\n",
       "      <td>87.251811</td>\n",
       "    </tr>\n",
       "    <tr>\n",
       "      <th>38</th>\n",
       "      <td>38</td>\n",
       "      <td>60.741727</td>\n",
       "    </tr>\n",
       "  </tbody>\n",
       "</table>\n",
       "</div>"
      ],
      "text/plain": [
       "          DGLIM ID  Distance to Bus Stop\n",
       "DGLIM ID                                \n",
       "16              16            110.521226\n",
       "17              17             20.692666\n",
       "24              24            209.539654\n",
       "25              25             87.251811\n",
       "38              38             60.741727"
      ]
     },
     "execution_count": 6,
     "metadata": {},
     "output_type": "execute_result"
    }
   ],
   "source": [
    "# Create dataset from results\n",
    "closest_stop_df = pd.DataFrame()\n",
    "closest_stop_df['DGLIM ID'] = master_df['DGLIM ID']\n",
    "closest_stop_df['Distance to Bus Stop'] = closest_stop_df['DGLIM ID'].apply(lambda x : distancesDict[x][1].meters if x in distancesDict else np.nan)\n",
    "\n",
    "closest_stop_df.head()"
   ]
  },
  {
   "cell_type": "markdown",
   "metadata": {},
   "source": [
    "*** Save data ***"
   ]
  },
  {
   "cell_type": "code",
   "execution_count": 7,
   "metadata": {
    "collapsed": true
   },
   "outputs": [],
   "source": [
    "dglim.saveData(closest_stop_df, 'Bus Stop Distances')"
   ]
  }
 ],
 "metadata": {
  "kernelspec": {
   "display_name": "Python 2",
   "language": "python",
   "name": "python2"
  },
  "language_info": {
   "codemirror_mode": {
    "name": "ipython",
    "version": 2
   },
   "file_extension": ".py",
   "mimetype": "text/x-python",
   "name": "python",
   "nbconvert_exporter": "python",
   "pygments_lexer": "ipython2",
   "version": "2.7.13"
  }
 },
 "nbformat": 4,
 "nbformat_minor": 2
}

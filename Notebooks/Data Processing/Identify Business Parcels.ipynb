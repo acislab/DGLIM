{
 "cells": [
  {
   "cell_type": "markdown",
   "metadata": {},
   "source": [
    "# Identify Business Parcels"
   ]
  },
  {
   "cell_type": "code",
   "execution_count": 1,
   "metadata": {
    "collapsed": true
   },
   "outputs": [],
   "source": [
    "import numpy as np\n",
    "import pandas as pd\n",
    "import re\n",
    "import usaddress\n",
    "from collections import OrderedDict\n",
    "\n",
    "# Common DGLIM utilities\n",
    "import os, sys\n",
    "sys.path.insert(1, os.path.join(sys.path[0], '..'))\n",
    "import dglim\n",
    "dglim.setProjectPath('../../')\n",
    "\n",
    "%matplotlib inline"
   ]
  },
  {
   "cell_type": "markdown",
   "metadata": {},
   "source": [
    "## Read and Format Data"
   ]
  },
  {
   "cell_type": "code",
   "execution_count": 2,
   "metadata": {
    "collapsed": true
   },
   "outputs": [],
   "source": [
    "def formatUnit(unit):\n",
    "    unit = str(unit).upper();\n",
    "\n",
    "    # Remove anthing after an & sign - e.g. for STE A & B, the parcel is most likely associated with just STE A\n",
    "    unit = unit.split('&')[0]\n",
    "\n",
    "    # Remove special characters\n",
    "    unit = re.sub(r'[^\\w ]', '', unit)\n",
    "\n",
    "    # Remove white space\n",
    "    unit = re.sub(r'[\\s]', '', unit).strip()\n",
    "\n",
    "    # Shorten whole words to their abbreviations\n",
    "    translation_map = OrderedDict([\n",
    "        ('SUITE', 'STE'),\n",
    "        ('SUIT', 'STE'),\n",
    "        ('STES', 'STE'),\n",
    "        ('FLOOR', 'FL'),\n",
    "        ('STREET', 'ST'),\n",
    "        ('COURT', 'CT')\n",
    "    ])\n",
    "    for x in translation_map:\n",
    "        unit = unit.replace(x, translation_map[x])\n",
    "    \n",
    "    # Since addresses usually won't have mixed unit types, let's get rid of it\n",
    "    unit_labels = [\n",
    "        'APT',\n",
    "        'BLDG',\n",
    "        'LOT',\n",
    "        'RM',\n",
    "        'STE',\n",
    "        'UNIT',\n",
    "    ]\n",
    "    for x in unit_labels:\n",
    "        unit = unit.replace(x, '')\n",
    "    \n",
    "    # Remove excess white space\n",
    "    unit = ' '.join(unit.split())\n",
    "\n",
    "    return unit"
   ]
  },
  {
   "cell_type": "code",
   "execution_count": 3,
   "metadata": {
    "scrolled": false
   },
   "outputs": [
    {
     "name": "stderr",
     "output_type": "stream",
     "text": [
      "/home/asiglani/anaconda2/lib/python2.7/site-packages/IPython/core/interactiveshell.py:2717: DtypeWarning: Columns (10,11,17) have mixed types. Specify dtype option on import or set low_memory=False.\n",
      "  interactivity=interactivity, compiler=compiler, result=result)\n"
     ]
    },
    {
     "data": {
      "text/html": [
       "<div>\n",
       "<style>\n",
       "    .dataframe thead tr:only-child th {\n",
       "        text-align: right;\n",
       "    }\n",
       "\n",
       "    .dataframe thead th {\n",
       "        text-align: left;\n",
       "    }\n",
       "\n",
       "    .dataframe tbody tr th {\n",
       "        vertical-align: top;\n",
       "    }\n",
       "</style>\n",
       "<table border=\"1\" class=\"dataframe\">\n",
       "  <thead>\n",
       "    <tr style=\"text-align: right;\">\n",
       "      <th></th>\n",
       "      <th>ADDRNUM</th>\n",
       "      <th>ROADPREDIR</th>\n",
       "      <th>ROADNAME</th>\n",
       "      <th>ROADTYPE</th>\n",
       "      <th>UNIT</th>\n",
       "      <th>Parcel</th>\n",
       "    </tr>\n",
       "  </thead>\n",
       "  <tbody>\n",
       "    <tr>\n",
       "      <th>0</th>\n",
       "      <td>4104</td>\n",
       "      <td>NW</td>\n",
       "      <td>13TH</td>\n",
       "      <td>PL</td>\n",
       "      <td></td>\n",
       "      <td>06397057000</td>\n",
       "    </tr>\n",
       "  </tbody>\n",
       "</table>\n",
       "</div>"
      ],
      "text/plain": [
       "  ADDRNUM ROADPREDIR ROADNAME ROADTYPE UNIT       Parcel\n",
       "0    4104         NW     13TH       PL       06397057000"
      ]
     },
     "execution_count": 3,
     "metadata": {},
     "output_type": "execute_result"
    }
   ],
   "source": [
    "# Alachua County Fire Rescue data that maps addresses to parcel numbers\n",
    "acfr_df = pd.read_csv(dglim.datasets_path + 'ACFR_Addressess.csv')\n",
    "acfr_df['UNIT'] = acfr_df['UNIT'].apply(formatUnit)\n",
    "\n",
    "# Extract addresses and parcels for addresses in Gainesville\n",
    "address_parcels_df = acfr_df[acfr_df['CITY'] == 'GAINESVILLE'][[\n",
    "    'ADDRNUM',\n",
    "    'ROADPREDIR',\n",
    "    'ROADNAME',\n",
    "    'ROADTYPE',\n",
    "    'UNIT',\n",
    "    'PARCEL'\n",
    "]].rename(columns={\n",
    "    'PARCEL': 'Parcel'\n",
    "}).astype(str)\n",
    "\n",
    "# Remove trailing spaces\n",
    "# * This is important because empty values are ' ' rather than ''\n",
    "address_parcels_df = address_parcels_df.apply(lambda x:\n",
    "    x.apply(lambda y: y.rstrip()))\n",
    "\n",
    "# Remove rows with missing data\n",
    "bad_parcels = (address_parcels_df['Parcel'].isin([' ', '<New parcel>', np.nan]))\n",
    "address_parcels_df = address_parcels_df[~bad_parcels]\n",
    "address_parcels_df['Parcel'] = address_parcels_df['Parcel'].apply(lambda x : x.replace('-',''))\n",
    "\n",
    "address_parcels_df.drop_duplicates(inplace=True)\n",
    "address_parcels_df[:1]"
   ]
  },
  {
   "cell_type": "code",
   "execution_count": 4,
   "metadata": {
    "collapsed": true,
    "scrolled": true
   },
   "outputs": [],
   "source": [
    "def getAddressTags(address):\n",
    "    columns = ['Address', 'ADDRNUM', 'ROADPREDIR', 'ROADNAME', 'ROADTYPE', 'UNIT']\n",
    "    tag_dict = dict.fromkeys(columns, '')\n",
    "\n",
    "    try:\n",
    "        tags = usaddress.tag(address)[0]\n",
    "#         tags = usaddress.tag(address.split(',')[0])[0]\n",
    "    except:\n",
    "        if ',' in address:\n",
    "            return getAddressTags(address.split(',')[:-1])\n",
    "        else:\n",
    "            return tag_dict\n",
    "\n",
    "    tag_dict['Address'] = address\n",
    "    tag_dict['ADDRNUM'] = tags['AddressNumber'].lstrip('0') if 'AddressNumber' in tags else ''\n",
    "    tag_dict['ROADPREDIR'] = tags['StreetNamePreDirectional'] if 'StreetNamePreDirectional' in tags else ''\n",
    "    tag_dict['ROADNAME'] = tags['StreetName'] if 'StreetName' in tags else ''\n",
    "    tag_dict['ROADTYPE'] = formatUnit(tags['StreetNamePostType']) if 'StreetNamePostType' in tags else ''\n",
    "\n",
    "    if 'OccupancyType' in tags and 'OccupancyIdentifier' in tags:\n",
    "        tag_dict['UNIT'] = formatUnit(tags['OccupancyType'] + ' ' + tags['OccupancyIdentifier']) # e.g. APT 15\n",
    "    else:\n",
    "        tag_dict['UNIT'] = ''\n",
    "\n",
    "    return tag_dict;"
   ]
  },
  {
   "cell_type": "code",
   "execution_count": 5,
   "metadata": {},
   "outputs": [],
   "source": [
    "# Read business data\n",
    "business_locations_df = dglim.loadData('Active Business Locations')\n",
    "\n",
    "# Extract address components\n",
    "merged_locations_df = business_locations_df[['DGLIM ID', 'Address']].drop_duplicates(subset=['Address']).set_index(['DGLIM ID'])\n",
    "address_parts_df = (merged_locations_df['Address'].apply(getAddressTags)).apply(pd.Series).reset_index()\n",
    "\n",
    "# Match addresses with parcels\n",
    "merged_df = pd.merge(left=address_parts_df, right=address_parcels_df,\n",
    "                     how='left', on=['ADDRNUM', 'ROADPREDIR', 'ROADNAME', 'ROADTYPE', 'UNIT'],\n",
    "                     ).drop_duplicates(subset=['DGLIM ID']).set_index('DGLIM ID')\n",
    "\n",
    "business_parcels_df = merged_df[['Parcel']].dropna()\n",
    "\n",
    "# Save data\n",
    "dglim.saveData(business_parcels_df, 'Active Business Parcels')"
   ]
  },
  {
   "cell_type": "code",
   "execution_count": 11,
   "metadata": {
    "scrolled": true
   },
   "outputs": [
    {
     "name": "stdout",
     "output_type": "stream",
     "text": [
      "3447 \tmatched\n",
      "887 \tstill missing\n",
      "983 \tduplicates\n",
      "313 \tparcels are shared\n",
      "1296 \tbusinesses share a parcel with at least one other business\n"
     ]
    }
   ],
   "source": [
    "temp_df = business_parcels_df[business_parcels_df['Parcel'] != '']\n",
    "\n",
    "total = len(merged_locations_df)\n",
    "matched = len(business_parcels_df)\n",
    "duplicates = matched - len(business_parcels_df['Parcel'].drop_duplicates())\n",
    "print matched, '\\tmatched'\n",
    "print total - matched, '\\tstill missing'\n",
    "print duplicates, '\\tduplicates'\n",
    "\n",
    "counts = business_parcels_df['Parcel'].value_counts()\n",
    "print len(counts[counts > 1]), '\\tparcels are shared'\n",
    "print sum(counts[counts > 1]), '\\tbusinesses share a parcel with at least one other business'"
   ]
  }
 ],
 "metadata": {
  "kernelspec": {
   "display_name": "Python 2",
   "language": "python",
   "name": "python2"
  },
  "language_info": {
   "codemirror_mode": {
    "name": "ipython",
    "version": 2
   },
   "file_extension": ".py",
   "mimetype": "text/x-python",
   "name": "python",
   "nbconvert_exporter": "python",
   "pygments_lexer": "ipython2",
   "version": "2.7.13"
  }
 },
 "nbformat": 4,
 "nbformat_minor": 2
}

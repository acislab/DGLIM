{
 "cells": [
  {
   "cell_type": "markdown",
   "metadata": {},
   "source": [
    "# MySQL Uploading\n",
    "\n",
    "This code syncs collected data with the database a the map Node.js app could read from. Only data that needed for specific visualizations on the map is synced."
   ]
  },
  {
   "cell_type": "code",
   "execution_count": 1,
   "metadata": {
    "collapsed": true
   },
   "outputs": [],
   "source": [
    "import pandas as pd\n",
    "import numpy as np\n",
    "# import matplotlib.pyplot as plt\n",
    "\n",
    "# Database syncing\n",
    "# from peewee import *\n",
    "import mysql.connector as dbConn\n",
    "\n",
    "# DGLIM\n",
    "# import Model\n",
    "import dglim"
   ]
  },
  {
   "cell_type": "markdown",
   "metadata": {},
   "source": [
    "# Get Local Data"
   ]
  },
  {
   "cell_type": "code",
   "execution_count": 2,
   "metadata": {
    "collapsed": true
   },
   "outputs": [],
   "source": [
    "master_df = dglim.loadData('Master Dataset')\n",
    "tracts_df = dglim.loadData('Tracts Dataset')\n",
    "blocks_df = dglim.loadData('Blocks Dataset')"
   ]
  },
  {
   "cell_type": "markdown",
   "metadata": {},
   "source": [
    "# Sync with Database"
   ]
  },
  {
   "cell_type": "markdown",
   "metadata": {},
   "source": [
    "## Sync Tracts"
   ]
  },
  {
   "cell_type": "code",
   "execution_count": 8,
   "metadata": {},
   "outputs": [
    {
     "data": {
      "text/html": [
       "<div>\n",
       "<style>\n",
       "    .dataframe thead tr:only-child th {\n",
       "        text-align: right;\n",
       "    }\n",
       "\n",
       "    .dataframe thead th {\n",
       "        text-align: left;\n",
       "    }\n",
       "\n",
       "    .dataframe tbody tr th {\n",
       "        vertical-align: top;\n",
       "    }\n",
       "</style>\n",
       "<table border=\"1\" class=\"dataframe\">\n",
       "  <thead>\n",
       "    <tr style=\"text-align: right;\">\n",
       "      <th></th>\n",
       "      <th>Tract</th>\n",
       "      <th>Population</th>\n",
       "      <th>Population Female</th>\n",
       "      <th>Population Over 18</th>\n",
       "      <th>Population Female Over 18</th>\n",
       "      <th>GEOID</th>\n",
       "      <th>Population Working</th>\n",
       "      <th>Average Income</th>\n",
       "      <th>Total Businesses</th>\n",
       "      <th>Somewhat Successful</th>\n",
       "      <th>Somewhat Unsuccessful</th>\n",
       "      <th>Very Successful</th>\n",
       "      <th>Very Unsuccessful</th>\n",
       "      <th>Total Responses</th>\n",
       "    </tr>\n",
       "    <tr>\n",
       "      <th>Tract</th>\n",
       "      <th></th>\n",
       "      <th></th>\n",
       "      <th></th>\n",
       "      <th></th>\n",
       "      <th></th>\n",
       "      <th></th>\n",
       "      <th></th>\n",
       "      <th></th>\n",
       "      <th></th>\n",
       "      <th></th>\n",
       "      <th></th>\n",
       "      <th></th>\n",
       "      <th></th>\n",
       "      <th></th>\n",
       "    </tr>\n",
       "  </thead>\n",
       "  <tbody>\n",
       "    <tr>\n",
       "      <th>1000</th>\n",
       "      <td>1000</td>\n",
       "      <td>6075</td>\n",
       "      <td>2766</td>\n",
       "      <td>5490</td>\n",
       "      <td>2452</td>\n",
       "      <td>12001001000</td>\n",
       "      <td>2397.0</td>\n",
       "      <td>407098.0</td>\n",
       "      <td>171</td>\n",
       "      <td>9.0</td>\n",
       "      <td>1.0</td>\n",
       "      <td>10.0</td>\n",
       "      <td>0.0</td>\n",
       "      <td>20.0</td>\n",
       "    </tr>\n",
       "  </tbody>\n",
       "</table>\n",
       "</div>"
      ],
      "text/plain": [
       "      Tract  Population  Population Female  Population Over 18  \\\n",
       "Tract                                                            \n",
       "1000   1000        6075               2766                5490   \n",
       "\n",
       "       Population Female Over 18        GEOID  Population Working  \\\n",
       "Tract                                                               \n",
       "1000                        2452  12001001000              2397.0   \n",
       "\n",
       "       Average Income  Total Businesses  Somewhat Successful  \\\n",
       "Tract                                                          \n",
       "1000         407098.0               171                  9.0   \n",
       "\n",
       "       Somewhat Unsuccessful  Very Successful  Very Unsuccessful  \\\n",
       "Tract                                                              \n",
       "1000                     1.0             10.0                0.0   \n",
       "\n",
       "       Total Responses  \n",
       "Tract                   \n",
       "1000              20.0  "
      ]
     },
     "execution_count": 8,
     "metadata": {},
     "output_type": "execute_result"
    }
   ],
   "source": [
    "tracts_df[:1]"
   ]
  },
  {
   "cell_type": "code",
   "execution_count": 6,
   "metadata": {},
   "outputs": [],
   "source": [
    "# Connect with MySQL Server\n",
    "cnx = dbConn.connect(user=\"root\", database=\"DGLIM_Data\")\n",
    "cursor = cnx.cursor(buffered=True)\n",
    "\n",
    "# query = (\n",
    "#             \"SELECT id, name FROM active_businesses;\"\n",
    "#         )\n",
    "\n",
    "wipe_tracts = (\"TRUNCATE TABLE tract\")\n",
    "cursor.execute(wipe_tracts)t\n",
    "\n",
    "add_tract = (\n",
    "    \"INSERT INTO tract \"\n",
    "    \"(id, tract, geoid, population, average_income, total_businesses, somewhat_successful, somewhat_unsuccessful, very_successful, very_unsuccessful) \"\n",
    "    \"VALUES (%s, %s, %s, %s, %s, %s, %s, %s, %s, %s)\"\n",
    ")\n",
    "\n",
    "# Upload tracts\n",
    "columns = [\n",
    "    'Tract',\n",
    "    'GEOID',\n",
    "    'Population',\n",
    "    'Average Income',\n",
    "    'Total Businesses',\n",
    "    'Somewhat Successful',\n",
    "    'Somewhat Unsuccessful',\n",
    "    'Very Successful',\n",
    "    'Very Unsuccessful'\n",
    "]\n",
    "\n",
    "for i, tract in tracts_df.iterrows():\n",
    "    data = [str(tract['Tract'])] + tract[columns].tolist()\n",
    "    cursor.execute(add_tract, data)\n",
    "\n",
    "# All done\n",
    "cursor.close()\n",
    "\n",
    "cnx.commit()\n",
    "cnx.close()"
   ]
  },
  {
   "cell_type": "code",
   "execution_count": 5,
   "metadata": {
    "scrolled": true
   },
   "outputs": [
    {
     "name": "stdout",
     "output_type": "stream",
     "text": [
      "['1000', '1000', 12001001000, 6075, 413855.0, 171, 9.0, 1.0, 10.0, 0.0]\n",
      "['1100', '1100', 12001001100, 7220, 416350.0, 393, 22.0, 0.0, 30.0, 1.0]\n",
      "['1201', '1201', 12001001201, 3226, 74991.0, 109, 10.0, 0.0, 3.0, 0.0]\n",
      "['1202', '1202', 12001001202, 6531, 396439.0, 116, 3.0, 0.0, 2.0, 1.0]\n",
      "['1203', '1203', 12001001203, 3689, 102304.0, 75, 9.0, 0.0, 1.0, 0.0]\n",
      "['1400', '1400', 12001001400, 664, 144825.0, 5, 0.0, 0.0, 0.0, 0.0]\n",
      "['1514', '1514', 12001001514, 1427, 52745.0, 15, 2.0, 0.0, 0.0, 0.0]\n",
      "['1515', '1515', 12001001515, 4872, 82831.0, 69, 2.0, 0.0, 3.0, 0.0]\n",
      "['1516', '1516', 12001001516, 1804, 71492.0, 5, 0.0, 0.0, 0.0, 0.0]\n",
      "['1517', '1517', 12001001517, 5279, 64431.0, 47, 1.0, 1.0, 1.0, 0.0]\n",
      "['1519', '1519', 12001001519, 2781, 30258.0, 175, 4.0, 1.0, 3.0, 0.0]\n",
      "['1520', '1520', 12001001520, 2289, 32970.0, 24, 1.0, 0.0, 0.0, 0.0]\n",
      "['1521', '1521', 12001001521, 3927, 97289.0, 181, 4.0, 0.0, 7.0, 0.0]\n",
      "['1603', '1603', 12001001603, 1431, 56223.0, 81, 5.0, 1.0, 8.0, 0.0]\n",
      "['1604', '1604', 12001001604, 7815, 181134.0, 425, 12.0, 0.0, 12.0, 0.0]\n",
      "['1701', '1701', 12001001701, 232, 119598.0, 75, 3.0, 1.0, 4.0, 0.0]\n",
      "['1702', '1702', 12001001702, 2899, 326617.0, 128, 14.0, 0.0, 11.0, 0.0]\n",
      "['1802', '1802', 12001001802, 682, 147705.0, 63, 6.0, 0.0, 3.0, 0.0]\n",
      "['1803', '1803', 12001001803, 6051, 258958.0, 95, 7.0, 0.0, 2.0, 0.0]\n",
      "['1811', '1811', 12001001811, 483, 378432.0, 78, 6.0, 0.0, 9.0, 0.0]\n",
      "['1813', '1813', 12001001813, 624, 113714.0, 82, 1.0, 0.0, 2.0, 0.0]\n",
      "['1814', '1814', 12001001814, 7, 102241.0, 0, 0.0, 0.0, 0.0, 0.0]\n",
      "['1902', '1902', 12001001902, 2735, 74846.0, 113, 3.0, 1.0, 5.0, 0.0]\n",
      "['1907', '1907', 12001001907, 4, 203049.0, 0, 0.0, 0.0, 0.0, 0.0]\n",
      "['1908', '1908', 12001001908, 140, 294304.0, 107, 1.0, 0.0, 4.0, 1.0]\n",
      "['200', '200', 12001000200, 7295, 169126.0, 339, 14.0, 1.0, 12.0, 0.0]\n",
      "['2000', '2000', 12001002000, 21, 248399.0, 0, 0.0, 0.0, 0.0, 0.0]\n",
      "['2101', '2101', 12001002101, 8, 141096.0, 0, 0.0, 0.0, 1.0, 0.0]\n",
      "['2204', '2204', 12001002204, 0, 397323.0, 0, 0.0, 0.0, 0.0, 0.0]\n",
      "['2217', '2217', 12001002217, 980, 109826.0, 15, 1.0, 0.0, 1.0, 0.0]\n",
      "['2218', '2218', 12001002218, 881, 116045.0, 0, 0.0, 0.0, 0.0, 0.0]\n",
      "['2219', '2219', 12001002219, 1283, 197784.0, 0, 0.0, 0.0, 0.0, 0.0]\n",
      "['2220', '2220', 12001002220, 223, 81938.0, 4, 0.0, 0.0, 1.0, 0.0]\n",
      "['301', '301', 12001000301, 3801, 65312.0, 453, 24.0, 4.0, 22.0, 0.0]\n",
      "['302', '302', 12001000302, 2426, 153295.0, 354, 17.0, 3.0, 17.0, 1.0]\n",
      "['400', '400', 12001000400, 5658, 178694.0, 320, 16.0, 3.0, 12.0, 1.0]\n",
      "['500', '500', 12001000500, 5026, 255741.0, 382, 29.0, 6.0, 25.0, 0.0]\n",
      "['600', '600', 12001000600, 3687, 102176.0, 86, 1.0, 1.0, 1.0, 0.0]\n",
      "['700', '700', 12001000700, 1956, 177972.0, 175, 4.0, 2.0, 8.0, 2.0]\n",
      "['806', '806', 12001000806, 1947, 38455.0, 33, 1.0, 1.0, 2.0, 0.0]\n",
      "['808', '808', 12001000808, 3895, 165953.0, 48, 4.0, 0.0, 1.0, 0.0]\n",
      "['809', '809', 12001000809, 975, 41196.0, 41, 3.0, 0.0, 0.0, 0.0]\n",
      "['901', '901', 12001000901, 5204, 21595.0, 18, 0.0, 0.0, 0.0, 0.0]\n",
      "['902', '902', 12001000902, 6620, 34907.0, 37, 0.0, 0.0, 0.0, 0.0]\n"
     ]
    }
   ],
   "source": [
    "for i, tract in tracts_df.iterrows():\n",
    "    print [str(tract['Tract'])] + tract[columns].tolist()"
   ]
  },
  {
   "cell_type": "code",
   "execution_count": null,
   "metadata": {
    "collapsed": true
   },
   "outputs": [],
   "source": []
  }
 ],
 "metadata": {
  "kernelspec": {
   "display_name": "Python 2",
   "language": "python",
   "name": "python2"
  },
  "language_info": {
   "codemirror_mode": {
    "name": "ipython",
    "version": 2
   },
   "file_extension": ".py",
   "mimetype": "text/x-python",
   "name": "python",
   "nbconvert_exporter": "python",
   "pygments_lexer": "ipython2",
   "version": "2.7.13"
  }
 },
 "nbformat": 4,
 "nbformat_minor": 2
}

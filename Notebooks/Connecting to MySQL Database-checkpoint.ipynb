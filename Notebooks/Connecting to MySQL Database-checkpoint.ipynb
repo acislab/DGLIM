{
 "cells": [
  {
   "cell_type": "markdown",
   "metadata": {},
   "source": [
    "### Python MySQL Connector"
   ]
  },
  {
   "cell_type": "code",
   "execution_count": 2,
   "metadata": {
    "collapsed": true
   },
   "outputs": [],
   "source": [
    "import mysql.connector as dbConn"
   ]
  },
  {
   "cell_type": "code",
   "execution_count": null,
   "metadata": {
    "collapsed": true
   },
   "outputs": [],
   "source": [
    "#Connect with MySQL Server\n",
    "cnx = dbConn.connect(user=\"root\", database=\"DGLIM_Data\")"
   ]
  },
  {
   "cell_type": "code",
   "execution_count": 18,
   "metadata": {
    "collapsed": true
   },
   "outputs": [],
   "source": [
    "curA = cnx.cursor(buffered=True)"
   ]
  },
  {
   "cell_type": "code",
   "execution_count": 19,
   "metadata": {
    "collapsed": true
   },
   "outputs": [],
   "source": [
    "query = (\n",
    "            \"SELECT id, Primary_Party FROM building_permits where id > 100 AND id <110;\"\n",
    "        )"
   ]
  },
  {
   "cell_type": "code",
   "execution_count": 20,
   "metadata": {
    "collapsed": true
   },
   "outputs": [],
   "source": [
    "curA.execute(query)"
   ]
  },
  {
   "cell_type": "code",
   "execution_count": 21,
   "metadata": {
    "scrolled": true
   },
   "outputs": [
    {
     "name": "stdout",
     "output_type": "stream",
     "text": [
      "id = 101 Name= DAVIS-GUERTIN PARTNERHSIP, \n",
      "id = 102 Name= DAVIS-GUERTIN PARTNERHSIP, \n",
      "id = 103 Name= DAVIS-GUERTIN PARTNERHSIP, \n",
      "id = 104 Name= DAVIS-GUERTIN PARTNERHSIP, \n",
      "id = 105 Name= Grisham                            , Betty H\n",
      "id = 106 Name= CITY OF GAINESVILLE, \n",
      "id = 107 Name= CITY OF GAINESVILLE, \n",
      "id = 108 Name= CITY OF GAINESVILLE, \n",
      "id = 109 Name= 1000 SW 16TH AVE LLC, \n"
     ]
    }
   ],
   "source": [
    "for (id, Primary_Party) in curA:\n",
    "    print(\"id = {} Name= {}\".format(id, Primary_Party))"
   ]
  },
  {
   "cell_type": "code",
   "execution_count": null,
   "metadata": {
    "collapsed": true
   },
   "outputs": [],
   "source": [
    "curA.close()\n",
    "cnx.close()"
   ]
  },
  {
   "cell_type": "markdown",
   "metadata": {},
   "source": [
    "## Using ORM - peewee"
   ]
  },
  {
   "cell_type": "code",
   "execution_count": 5,
   "metadata": {
    "collapsed": true
   },
   "outputs": [],
   "source": [
    "from peewee import *\n",
    "from datetime import datetime\n",
    "from geopy.distance import vincenty\n",
    "import matplotlib.pyplot as plt\n",
    "import numpy as np\n",
    "import shelve"
   ]
  },
  {
   "cell_type": "markdown",
   "metadata": {},
   "source": [
    "### Connecting to database stored on the ACIS VM "
   ]
  },
  {
   "cell_type": "code",
   "execution_count": 7,
   "metadata": {
    "collapsed": true
   },
   "outputs": [],
   "source": [
    "db = MySQLDatabase('DGLIM_Data',host='128.227.150.15',port=3306,user='asiglani',password='sramlr11')"
   ]
  },
  {
   "cell_type": "markdown",
   "metadata": {},
   "source": [
    "### Models required for PeeWee\n",
    "- Business Permits Model "
   ]
  },
  {
   "cell_type": "code",
   "execution_count": 8,
   "metadata": {
    "collapsed": true
   },
   "outputs": [],
   "source": [
    "-class Permit(Model): \n",
    "    id = IntegerField(primary_key=True)\n",
    "    permit = CharField()\n",
    "    classification = CharField()\n",
    "    name = CharField()\n",
    "    parcel_number = CharField()\n",
    "    contractor_last_name = CharField()\n",
    "    contractor_first_name = CharField()\n",
    "    business = CharField()\n",
    "    primary_party = CharField()\n",
    "    submit_date = CharField()\n",
    "    issue_date = CharField()\n",
    "    location = CharField()\n",
    "    latitude = CharField()\n",
    "    longitude = CharField()\n",
    "    \n",
    "    class Meta:\n",
    "        database = db\n",
    "        db_table = 'building_permits'\n"
   ]
  },
  {
   "cell_type": "markdown",
   "metadata": {},
   "source": [
    "- Active Business Data Model"
   ]
  },
  {
   "cell_type": "code",
   "execution_count": 9,
   "metadata": {
    "collapsed": true
   },
   "outputs": [],
   "source": [
    "class ActiveBusiness(Model):\n",
    "    id = IntegerField(primary_key=True)    #1\n",
    "    business_type = CharField()            #2\n",
    "    name = CharField()                    \n",
    "    start_date = CharField()                    \n",
    "    address = CharField()                    \n",
    "    latitude = CharField()                    \n",
    "    longitude = CharField()                #7 fields\n",
    "\n",
    "    class Meta:\n",
    "        database = db\n",
    "        db_table= 'Act_Bus_geocoded'\n",
    "    "
   ]
  },
  {
   "cell_type": "code",
   "execution_count": 5,
   "metadata": {
    "collapsed": true
   },
   "outputs": [],
   "source": [
    "db.connect()"
   ]
  },
  {
   "cell_type": "markdown",
   "metadata": {},
   "source": [
    "** Get all permits from database **"
   ]
  },
  {
   "cell_type": "code",
   "execution_count": 20,
   "metadata": {
    "collapsed": true
   },
   "outputs": [],
   "source": [
    "businessPermits = Permit.select()"
   ]
  },
  {
   "cell_type": "markdown",
   "metadata": {},
   "source": [
    "** Get all businesses from Active Business Database **"
   ]
  },
  {
   "cell_type": "code",
   "execution_count": 21,
   "metadata": {
    "collapsed": true
   },
   "outputs": [],
   "source": [
    "activeBusinesses = ActiveBusiness.select()"
   ]
  },
  {
   "cell_type": "markdown",
   "metadata": {},
   "source": [
    "#### Grouping permits by geocoded location"
   ]
  },
  {
   "cell_type": "code",
   "execution_count": 22,
   "metadata": {},
   "outputs": [
    {
     "name": "stdout",
     "output_type": "stream",
     "text": [
      "Started Processing\n"
     ]
    }
   ],
   "source": [
    "print \"Started Processing\"\n",
    "\n",
    "# Group permits by location\n",
    "groupedPermits = {}\n",
    "for permit in businessPermits:\n",
    "    if permit.latitude is None:\n",
    "        continue\n",
    "    key = (float(permit.latitude), float(permit.longitude))\n",
    "    if(key in groupedPermits):\n",
    "        groupedPermits[key].append(permit)\n",
    "    else:\n",
    "        groupedPermits[key] = [permit]"
   ]
  },
  {
   "cell_type": "code",
   "execution_count": 23,
   "metadata": {},
   "outputs": [
    {
     "name": "stdout",
     "output_type": "stream",
     "text": [
      "6500\n"
     ]
    }
   ],
   "source": [
    "print len(groupedPermits)"
   ]
  },
  {
   "cell_type": "markdown",
   "metadata": {},
   "source": [
    "#### Code for joining Active Businesses and their respective Permits using String Matcing\n",
    "#### Datasets invloved:\n",
    "1. Active Business   -- Source: data.cityofgainesville.org\n",
    "2. Permits           -- Source: provided by Lila"
   ]
  },
  {
   "cell_type": "code",
   "execution_count": null,
   "metadata": {
    "collapsed": true
   },
   "outputs": [],
   "source": [
    "print \"Started Processing\"\n",
    "ten_percent = len(activeBusinesses)/10\n",
    "matchCount = {}\n",
    "matchCountExamples = {}\n",
    "distForMatchCount = {}\n",
    "matchcountForDist = {}\n",
    "paired_AB = []\n",
    "\n",
    "for i, actBus in enumerate(activeBusinesses):\n",
    "    if actBus.latitude is None:\n",
    "        continue\n",
    "    act_bus_cord = (float(actBus.latitude),float(actBus.longitude))\n",
    "    rem_list = ['if','the','on','in','inc','llc','co','of']\n",
    "    matched_permits = []\n",
    "    for key, loc_permits in groupedPermits.iteritems():\n",
    "        permit_coord = key\n",
    "        distance = int(vincenty(act_bus_cord,permit_coord).meters)\n",
    "        if(distance <= 100):\n",
    "            # Find how many words match between permit's primary_party and business name\n",
    "            str1 = actBus.name\n",
    "            str1_words = [word.replace(',','').replace('.','') for word in str1.lower().strip(',.').split()\n",
    "                          if word not in rem_list and len(word) > 1]\n",
    "            for permit in loc_permits:\n",
    "                str2 = permit.primary_party\n",
    "                str2_words = [word.replace(',','').replace('.','') for word in str2.lower().strip(',.').split()\n",
    "                             if word not in rem_list and len(word) > 1]\n",
    "                count = 0\n",
    "                for w1 in str1_words:\n",
    "                    if len(w1) < 2:\n",
    "                        continue\n",
    "                    for w2 in str2_words:\n",
    "                        if len(w2) < 2:\n",
    "                            continue\n",
    "                        if w1 == w2 or (w1 in w2) or (w2 in w1):\n",
    "                            count += 1\n",
    "                if count > 0:\n",
    "                    #print count, str1, str2\n",
    "                    norm_denom = len(str1_words) if len(str1_words) > len(str2_words) else len(str2_words)\n",
    "                    normCount = float(count)/norm_denom\n",
    "                    if(normCount in matchCount):\n",
    "                        matchCount[normCount] += 1\n",
    "                        matchCountExamples[normCount].append((str1,str2))\n",
    "                    else:\n",
    "                        matchCount[normCount] = 1\n",
    "                        matchCountExamples[normCount] = [(str1,str2)]\n",
    "                    \n",
    "                    if normCount >= 0.8:\n",
    "                        matched_permits.append(permit)\n",
    "                        \n",
    "                    if normCount in distForMatchCount:\n",
    "                        distForMatchCount[normCount].append(distance)\n",
    "                    else:\n",
    "                        distForMatchCount[normCount] = [distance]\n",
    "                        \n",
    "                    if distance in matchcountForDist:\n",
    "                        matchcountForDist[distance].append(normCount)\n",
    "                    else:\n",
    "                        matchcountForDist[distance] = [normCount]\n",
    "      \n",
    "    if len(matched_permits) > 0:\n",
    "        paired_AB.append({'AB':actBus, 'matched_permits' : matched_permits})        \n",
    "    if(i != 0 and i % ten_percent == 0):\n",
    "        print 10*i/ten_percent, \" percent completed...\""
   ]
  },
  {
   "cell_type": "markdown",
   "metadata": {},
   "source": [
    "- ** The paired_AB dictionary created above contains join between Active Business and their respective permits **"
   ]
  },
  {
   "cell_type": "markdown",
   "metadata": {},
   "source": [
    "#### Code for Shelving the data generated above to avoid repeating the processing"
   ]
  },
  {
   "cell_type": "code",
   "execution_count": 11,
   "metadata": {
    "collapsed": true
   },
   "outputs": [],
   "source": [
    "import shelve\n",
    "from IPython.display import HTML, display\n",
    "import tabulate\n",
    "\n",
    "\n",
    "# Shelve DB path\n",
    "DB_path = \"../Shelve_Dbs/Active_Business_NB_Db/DGLIM_Data_Shelve.db\";"
   ]
  },
  {
   "cell_type": "code",
   "execution_count": 26,
   "metadata": {
    "collapsed": true
   },
   "outputs": [],
   "source": [
    "# UNCOMMENT FOLLOWING LINES IF RUNNING CODE FOR FIRST TIME\n",
    "\n",
    "# AB_Data = shelve.open(DB_path)\n",
    "# try:\n",
    "#     AB_Data[\"matchCountExamples\"] = matchCountExamples\n",
    "#     AB_Data[\"distForMatchCount\"] =  distForMatchCount\n",
    "#     AB_Data[\"matchcountForDist\"] = matchcountForDist\n",
    "#     AB_Data['permits_AB_matched'] = paired_AB\n",
    "# finally:\n",
    "#     AB_Data.close()"
   ]
  },
  {
   "cell_type": "markdown",
   "metadata": {},
   "source": [
    "## Processing shelve data\n",
    "- Creating a table of permits count for active busnesses, ordered by number of permits"
   ]
  },
  {
   "cell_type": "code",
   "execution_count": null,
   "metadata": {
    "collapsed": true
   },
   "outputs": [],
   "source": [
    "AB_Data = shelve.open(DB_path)\n",
    "try:\n",
    "    permits_AB_matched = AB_Data['permits_AB_matched']\n",
    "    permits_AB_matched.sort(key=lambda x : len(x['matched_permits']), reverse=True)\n",
    "    headers = ['Business Name','Business Type','#permits']\n",
    "    data_matrix = []\n",
    "    for i in permits_AB_matched:\n",
    "        data_matrix.append([i['AB'].name, i['AB'].business_type, len(i['matched_permits'])])\n",
    "    \n",
    "    display(HTML(tabulate.tabulate(data_matrix,headers=headers, tablefmt='html')))\n",
    "finally:\n",
    "    AB_Data.close()"
   ]
  },
  {
   "cell_type": "markdown",
   "metadata": {},
   "source": [
    "** Following code generates a bar graph showing ratio of matching between Business name from Active Business Dataset and Primary party from permits data set **"
   ]
  },
  {
   "cell_type": "code",
   "execution_count": 154,
   "metadata": {},
   "outputs": [
    {
     "data": {
      "image/png": "[encoded data removed]",
      "text/plain": [
       "<matplotlib.figure.Figure at 0x7f65cd8c0d10>"
      ]
     },
     "metadata": {},
     "output_type": "display_data"
    }
   ],
   "source": [
    "#print distForMatchCount\n",
    "names = ['normCount', 'freq']\n",
    "formats = ['f8','i8']\n",
    "dtype = dict(names = names, formats = formats)\n",
    "array = np.fromiter(matchCount.iteritems(), dtype=dtype, count=len(matchCount))\n",
    "# print repr(array)\n",
    "array.view('f8,i8').sort(order=['f0'], axis=0)\n",
    "# print array\n",
    "\n",
    "x = np.arange(len(matchCount))\n",
    "plt.bar(x, array['freq'],width=.5, color='b')\n",
    "plt.xticks(x, array['normCount'], rotation='vertical')\n",
    "plt.show()"
   ]
  },
  {
   "cell_type": "markdown",
   "metadata": {},
   "source": [
    "### Getting Active Businesses that have permits"
   ]
  },
  {
   "cell_type": "code",
   "execution_count": 45,
   "metadata": {},
   "outputs": [
    {
     "name": "stdout",
     "output_type": "stream",
     "text": [
      "Started Processing\n",
      "501  is 10% of active business length\n",
      "10  percent completed...\n",
      "20  percent completed...\n",
      "30  percent completed...\n",
      "40  percent completed...\n",
      "50  percent completed...\n",
      "60  percent completed...\n",
      "70  percent completed...\n",
      "80  percent completed...\n",
      "90  percent completed...\n",
      "100  percent completed...\n",
      "Completed Processing\n",
      "Number of Active Businesses with permits = 1927\n"
     ]
    }
   ],
   "source": [
    "print \"Started Processing\"\n",
    "ten_percent = len(activeBusinesses)/10;\n",
    "print ten_percent, \" is 10% of active business length\"\n",
    "for i, actBus in enumerate(activeBusinesses):\n",
    "    permits = []\n",
    "    permitCount = 0\n",
    "    #act_bus_cord = (float(actBus.latitude),float(actBus.longitude))\n",
    "    for permit in businessPermits:\n",
    "        #permit_coord = (float(permit.latitude),float(permit.longitude))\n",
    "        if(permit.latitude == actBus.latitude and permit.longitude == actBus.longitude):\n",
    "            permits.append(permit)\n",
    "            permitCount += 1\n",
    "            setattr(actBus, 'permits', permits)\n",
    "            setattr(actBus, 'permitCount', permitCount)\n",
    "    if(i != 0 and i % ten_percent == 0):\n",
    "        print 10*i/ten_percent, \" percent completed...\"\n",
    "print \"Completed Processing\"\n",
    "num_jointRecords = 0\n",
    "jointRecords = []\n",
    "\n",
    "for actBus in activeBusinesses:\n",
    "    if(hasattr(actBus, 'permitCount')):\n",
    "        num_jointRecords += 1\n",
    "        jointRecords.append(actBus)\n",
    "        #print actBus.name, actBus.permitCount\n",
    "\n",
    "print \"Number of Active Businesses with permits = {}\".format(num_jointRecords)    "
   ]
  },
  {
   "cell_type": "markdown",
   "metadata": {},
   "source": [
    "#### Filtering permits for current Businesses"
   ]
  },
  {
   "cell_type": "code",
   "execution_count": 57,
   "metadata": {
    "collapsed": true
   },
   "outputs": [],
   "source": [
    "def filter_permits(permit, start_date):\n",
    "    if permit.issue_date == '':\n",
    "        return False\n",
    "    issue_date = datetime.strptime(permit.issue_date, '%m/%d/%Y')\n",
    "    return start_date < issue_date\n",
    "    \n",
    "for record in jointRecords:\n",
    "    start_date = datetime.strptime(record.start_date, '%m/%d/%Y %I:%M:%S %p')\n",
    "    record.permits = filter(lambda permit: filter_permits(permit, start_date), record.permits)\n",
    "    record.permitCount = len(record.permits)"
   ]
  },
  {
   "cell_type": "code",
   "execution_count": 58,
   "metadata": {
    "collapsed": true
   },
   "outputs": [],
   "source": [
    "jointRecords.sort(key=lambda x: x.permitCount, reverse=True)"
   ]
  },
  {
   "cell_type": "code",
   "execution_count": 60,
   "metadata": {
    "collapsed": true
   },
   "outputs": [],
   "source": [
    "db.close()"
   ]
  }
 ],
 "metadata": {
  "kernelspec": {
   "display_name": "Python 2",
   "language": "python",
   "name": "python2"
  },
  "language_info": {
   "codemirror_mode": {
    "name": "ipython",
    "version": 2
   },
   "file_extension": ".py",
   "mimetype": "text/x-python",
   "name": "python",
   "nbconvert_exporter": "python",
   "pygments_lexer": "ipython2",
   "version": "2.7.13"
  }
 },
 "nbformat": 4,
 "nbformat_minor": 2
}
